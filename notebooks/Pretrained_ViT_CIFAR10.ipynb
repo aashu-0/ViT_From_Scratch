{
  "cells": [
    {
      "cell_type": "code",
      "execution_count": null,
      "metadata": {
        "_cell_guid": "b1076dfc-b9ad-4769-8c92-a6c4dae69d19",
        "_uuid": "8f2839f25d086af736a60e9eeb907d3b93b6e0e5",
        "execution": {
          "iopub.execute_input": "2025-02-04T09:44:45.107509Z",
          "iopub.status.busy": "2025-02-04T09:44:45.107204Z",
          "iopub.status.idle": "2025-02-04T09:44:50.414166Z",
          "shell.execute_reply": "2025-02-04T09:44:50.413465Z",
          "shell.execute_reply.started": "2025-02-04T09:44:45.107486Z"
        },
        "id": "C1uiGnSiAbAI",
        "trusted": true
      },
      "outputs": [],
      "source": [
        "import torch\n",
        "import torch.nn as nn\n",
        "import torchvision\n",
        "from torchvision import transforms\n",
        "from torch.utils.data import DataLoader, Subset, random_split\n",
        "import numpy as np\n",
        "\n",
        "# set seed\n",
        "torch.manual_seed(54)\n",
        "torch.cuda.manual_seed(54)"
      ]
    },
    {
      "cell_type": "code",
      "execution_count": null,
      "metadata": {
        "colab": {
          "base_uri": "https://localhost:8080/",
          "height": 36
        },
        "id": "dqPTp1XmJfVY",
        "outputId": "cf60a54b-c3b4-48d8-dfd3-9aa822469b45"
      },
      "outputs": [
        {
          "data": {
            "application/vnd.google.colaboratory.intrinsic+json": {
              "type": "string"
            },
            "text/plain": [
              "'cuda'"
            ]
          },
          "execution_count": 3,
          "metadata": {},
          "output_type": "execute_result"
        }
      ],
      "source": [
        "device = 'cuda' if torch.cuda.is_available() else 'cpu'\n",
        "device"
      ]
    },
    {
      "cell_type": "code",
      "execution_count": null,
      "metadata": {
        "colab": {
          "base_uri": "https://localhost:8080/"
        },
        "id": "Z6nvs5iBD9m9",
        "outputId": "7ad7c84f-5927-4c19-ff72-93c574a661d9"
      },
      "outputs": [
        {
          "name": "stderr",
          "output_type": "stream",
          "text": [
            "Downloading: \"https://download.pytorch.org/models/vit_b_16-c867db91.pth\" to /root/.cache/torch/hub/checkpoints/vit_b_16-c867db91.pth\n",
            "100%|██████████| 330M/330M [00:02<00:00, 126MB/s]\n"
          ]
        }
      ],
      "source": [
        "# setup pretrained model\n",
        "\n",
        "# weights\n",
        "pretrained_vit_weights = torchvision.models.ViT_B_16_Weights.DEFAULT\n",
        "\n",
        "# model instance\n",
        "pretrained_vit = torchvision.models.vit_b_16(weights = pretrained_vit_weights).to(device)"
      ]
    },
    {
      "cell_type": "code",
      "execution_count": null,
      "metadata": {
        "colab": {
          "base_uri": "https://localhost:8080/"
        },
        "id": "3g37o9OYEUxV",
        "outputId": "cbea6d01-756b-47bb-c97a-b74ddc8dd25f"
      },
      "outputs": [
        {
          "data": {
            "text/plain": [
              "ImageClassification(\n",
              "    crop_size=[224]\n",
              "    resize_size=[256]\n",
              "    mean=[0.485, 0.456, 0.406]\n",
              "    std=[0.229, 0.224, 0.225]\n",
              "    interpolation=InterpolationMode.BILINEAR\n",
              ")"
            ]
          },
          "execution_count": 5,
          "metadata": {},
          "output_type": "execute_result"
        }
      ],
      "source": [
        "# get automatic transforms\n",
        "pretrained_vit_transforms = pretrained_vit_weights.transforms()\n",
        "pretrained_vit_transforms"
      ]
    },
    {
      "cell_type": "code",
      "execution_count": null,
      "metadata": {
        "colab": {
          "base_uri": "https://localhost:8080/"
        },
        "execution": {
          "iopub.execute_input": "2025-02-04T09:44:50.415489Z",
          "iopub.status.busy": "2025-02-04T09:44:50.415189Z",
          "iopub.status.idle": "2025-02-04T09:44:56.271321Z",
          "shell.execute_reply": "2025-02-04T09:44:56.270638Z",
          "shell.execute_reply.started": "2025-02-04T09:44:50.415470Z"
        },
        "id": "8l2BlxjvAbAN",
        "outputId": "853904dd-5086-45ab-e850-72ba2a7a350f",
        "trusted": true
      },
      "outputs": [
        {
          "name": "stderr",
          "output_type": "stream",
          "text": [
            "100%|██████████| 170M/170M [00:03<00:00, 44.6MB/s]\n"
          ]
        },
        {
          "name": "stdout",
          "output_type": "stream",
          "text": [
            "Train data size: 3200 images, Test data size: 800 images\n"
          ]
        }
      ],
      "source": [
        "BATCH_SIZE = 64\n",
        "NUM_WORKERS = 2\n",
        "classes = {'airplane':0, 'automobile':1, 'bird':2, 'cat':3}\n",
        "img_per_class = 1000\n",
        "\n",
        "\n",
        "# load data\n",
        "dataset = torchvision.datasets.CIFAR10(root='./data',\n",
        "                                          train=True,\n",
        "                                          download=True,\n",
        "                                          transform=pretrained_vit_transforms)\n",
        "\n",
        "# class indices\n",
        "class_indices = {k:[] for k in classes.values()}\n",
        "\n",
        "for idx, (img, label) in enumerate(dataset):\n",
        "    if label in class_indices and len(class_indices[label]) < img_per_class:\n",
        "        class_indices[label].append(idx)\n",
        "\n",
        "    if all(len(num_indices)== img_per_class for num_indices in class_indices.values()):\n",
        "        break\n",
        "\n",
        "# create subset\n",
        "total_indices = sum(class_indices.values(),[])\n",
        "subset_dataset = Subset(dataset, total_indices)\n",
        "\n",
        "# train and test split\n",
        "train_size = int(0.8 * len(subset_dataset))\n",
        "test_size = len(subset_dataset) - train_size\n",
        "train_data_pretrained, test_data_pretrained = random_split(subset_dataset, [train_size, test_size])\n",
        "\n",
        "\n",
        "train_loader_pretrained = DataLoader(train_data_pretrained, batch_size = BATCH_SIZE, shuffle = True, num_workers = NUM_WORKERS)\n",
        "test_loader_pretrained = DataLoader(test_data_pretrained, batch_size = BATCH_SIZE, shuffle = False, num_workers = NUM_WORKERS)\n",
        "\n",
        "print(f'Train data size: {len(train_data_pretrained)} images, Test data size: {len(test_data_pretrained)} images')\n"
      ]
    },
    {
      "cell_type": "code",
      "execution_count": null,
      "metadata": {
        "colab": {
          "base_uri": "https://localhost:8080/"
        },
        "execution": {
          "iopub.execute_input": "2025-02-04T09:44:56.273106Z",
          "iopub.status.busy": "2025-02-04T09:44:56.272832Z",
          "iopub.status.idle": "2025-02-04T09:44:56.279057Z",
          "shell.execute_reply": "2025-02-04T09:44:56.278277Z",
          "shell.execute_reply.started": "2025-02-04T09:44:56.273083Z"
        },
        "id": "9U0D-S17AbAP",
        "outputId": "419adef5-a907-4aed-e71a-a1b0289afa9a",
        "trusted": true
      },
      "outputs": [
        {
          "data": {
            "text/plain": [
              "(<torch.utils.data.dataloader.DataLoader at 0x781f3fe8ef90>,\n",
              " <torch.utils.data.dataloader.DataLoader at 0x781f3fe689d0>)"
            ]
          },
          "execution_count": 7,
          "metadata": {},
          "output_type": "execute_result"
        }
      ],
      "source": [
        "train_loader_pretrained, test_loader_pretrained"
      ]
    },
    {
      "cell_type": "code",
      "execution_count": null,
      "metadata": {
        "colab": {
          "base_uri": "https://localhost:8080/"
        },
        "id": "id0hcQhjHyOC",
        "outputId": "c112f93a-f91b-4dff-a5dc-b8eca85abc93"
      },
      "outputs": [
        {
          "name": "stdout",
          "output_type": "stream",
          "text": [
            "Collecting torchinfo\n",
            "  Downloading torchinfo-1.8.0-py3-none-any.whl.metadata (21 kB)\n",
            "Downloading torchinfo-1.8.0-py3-none-any.whl (23 kB)\n",
            "Installing collected packages: torchinfo\n",
            "Successfully installed torchinfo-1.8.0\n"
          ]
        },
        {
          "data": {
            "text/plain": [
              "===============================================================================================\n",
              "Layer (type:depth-idx)                        Output Shape              Param #\n",
              "===============================================================================================\n",
              "VisionTransformer                             [1, 1000]                 768\n",
              "├─Conv2d: 1-1                                 [1, 768, 14, 14]          590,592\n",
              "├─Encoder: 1-2                                [1, 197, 768]             151,296\n",
              "│    └─Dropout: 2-1                           [1, 197, 768]             --\n",
              "│    └─Sequential: 2-2                        [1, 197, 768]             --\n",
              "│    │    └─EncoderBlock: 3-1                 [1, 197, 768]             7,087,872\n",
              "│    │    └─EncoderBlock: 3-2                 [1, 197, 768]             7,087,872\n",
              "│    │    └─EncoderBlock: 3-3                 [1, 197, 768]             7,087,872\n",
              "│    │    └─EncoderBlock: 3-4                 [1, 197, 768]             7,087,872\n",
              "│    │    └─EncoderBlock: 3-5                 [1, 197, 768]             7,087,872\n",
              "│    │    └─EncoderBlock: 3-6                 [1, 197, 768]             7,087,872\n",
              "│    │    └─EncoderBlock: 3-7                 [1, 197, 768]             7,087,872\n",
              "│    │    └─EncoderBlock: 3-8                 [1, 197, 768]             7,087,872\n",
              "│    │    └─EncoderBlock: 3-9                 [1, 197, 768]             7,087,872\n",
              "│    │    └─EncoderBlock: 3-10                [1, 197, 768]             7,087,872\n",
              "│    │    └─EncoderBlock: 3-11                [1, 197, 768]             7,087,872\n",
              "│    │    └─EncoderBlock: 3-12                [1, 197, 768]             7,087,872\n",
              "│    └─LayerNorm: 2-3                         [1, 197, 768]             1,536\n",
              "├─Sequential: 1-3                             [1, 1000]                 --\n",
              "│    └─Linear: 2-4                            [1, 1000]                 769,000\n",
              "===============================================================================================\n",
              "Total params: 86,567,656\n",
              "Trainable params: 86,567,656\n",
              "Non-trainable params: 0\n",
              "Total mult-adds (Units.MEGABYTES): 173.23\n",
              "===============================================================================================\n",
              "Input size (MB): 0.60\n",
              "Forward/backward pass size (MB): 104.09\n",
              "Params size (MB): 232.27\n",
              "Estimated Total Size (MB): 336.96\n",
              "==============================================================================================="
            ]
          },
          "execution_count": 8,
          "metadata": {},
          "output_type": "execute_result"
        }
      ],
      "source": [
        "!pip install torchinfo\n",
        "from torchinfo import summary\n",
        "\n",
        "summary(pretrained_vit, input_size = (1,3,224,224))"
      ]
    },
    {
      "cell_type": "code",
      "execution_count": null,
      "metadata": {
        "colab": {
          "base_uri": "https://localhost:8080/"
        },
        "id": "AYeU0dEbIEwK",
        "outputId": "718757d7-2bc4-4e30-91ee-36f031ce63c2"
      },
      "outputs": [
        {
          "data": {
            "text/plain": [
              "Sequential(\n",
              "  (head): Linear(in_features=768, out_features=1000, bias=True)\n",
              ")"
            ]
          },
          "execution_count": 9,
          "metadata": {},
          "output_type": "execute_result"
        }
      ],
      "source": [
        "pretrained_vit.heads"
      ]
    },
    {
      "cell_type": "code",
      "execution_count": null,
      "metadata": {
        "id": "mfgQa4--HeAQ"
      },
      "outputs": [],
      "source": [
        "# freeze the base parameters\n",
        "\n",
        "for parm in pretrained_vit.parameters():\n",
        "    parm.requires_grad = False\n",
        "\n",
        "# modify the classifier head\n",
        "pretrained_vit.heads = nn.Linear(in_features = 768, out_features = 4).to(device)"
      ]
    },
    {
      "cell_type": "code",
      "execution_count": null,
      "metadata": {
        "colab": {
          "base_uri": "https://localhost:8080/"
        },
        "id": "NpvEx4NUHd-U",
        "outputId": "d8c66da9-e666-4336-d788-8bb951f6b497"
      },
      "outputs": [
        {
          "data": {
            "text/plain": [
              "=================================================================================================================================================\n",
              "Layer (type:depth-idx)                        Input Shape               Output Shape              Param #                   Trainable\n",
              "=================================================================================================================================================\n",
              "VisionTransformer                             [1, 3, 224, 224]          [1, 4]                    768                       Partial\n",
              "├─Conv2d: 1-1                                 [1, 3, 224, 224]          [1, 768, 14, 14]          (590,592)                 False\n",
              "├─Encoder: 1-2                                [1, 197, 768]             [1, 197, 768]             151,296                   False\n",
              "│    └─Dropout: 2-1                           [1, 197, 768]             [1, 197, 768]             --                        --\n",
              "│    └─Sequential: 2-2                        [1, 197, 768]             [1, 197, 768]             --                        False\n",
              "│    │    └─EncoderBlock: 3-1                 [1, 197, 768]             [1, 197, 768]             (7,087,872)               False\n",
              "│    │    └─EncoderBlock: 3-2                 [1, 197, 768]             [1, 197, 768]             (7,087,872)               False\n",
              "│    │    └─EncoderBlock: 3-3                 [1, 197, 768]             [1, 197, 768]             (7,087,872)               False\n",
              "│    │    └─EncoderBlock: 3-4                 [1, 197, 768]             [1, 197, 768]             (7,087,872)               False\n",
              "│    │    └─EncoderBlock: 3-5                 [1, 197, 768]             [1, 197, 768]             (7,087,872)               False\n",
              "│    │    └─EncoderBlock: 3-6                 [1, 197, 768]             [1, 197, 768]             (7,087,872)               False\n",
              "│    │    └─EncoderBlock: 3-7                 [1, 197, 768]             [1, 197, 768]             (7,087,872)               False\n",
              "│    │    └─EncoderBlock: 3-8                 [1, 197, 768]             [1, 197, 768]             (7,087,872)               False\n",
              "│    │    └─EncoderBlock: 3-9                 [1, 197, 768]             [1, 197, 768]             (7,087,872)               False\n",
              "│    │    └─EncoderBlock: 3-10                [1, 197, 768]             [1, 197, 768]             (7,087,872)               False\n",
              "│    │    └─EncoderBlock: 3-11                [1, 197, 768]             [1, 197, 768]             (7,087,872)               False\n",
              "│    │    └─EncoderBlock: 3-12                [1, 197, 768]             [1, 197, 768]             (7,087,872)               False\n",
              "│    └─LayerNorm: 2-3                         [1, 197, 768]             [1, 197, 768]             (1,536)                   False\n",
              "├─Linear: 1-3                                 [1, 768]                  [1, 4]                    3,076                     True\n",
              "=================================================================================================================================================\n",
              "Total params: 85,801,732\n",
              "Trainable params: 3,076\n",
              "Non-trainable params: 85,798,656\n",
              "Total mult-adds (Units.MEGABYTES): 172.47\n",
              "=================================================================================================================================================\n",
              "Input size (MB): 0.60\n",
              "Forward/backward pass size (MB): 104.09\n",
              "Params size (MB): 229.21\n",
              "Estimated Total Size (MB): 333.89\n",
              "================================================================================================================================================="
            ]
          },
          "execution_count": 11,
          "metadata": {},
          "output_type": "execute_result"
        }
      ],
      "source": [
        "summary(pretrained_vit, input_size = (1,3,224,224), col_names=(\"input_size\",\"output_size\",\"num_params\",\"trainable\"))"
      ]
    },
    {
      "cell_type": "code",
      "execution_count": null,
      "metadata": {
        "colab": {
          "base_uri": "https://localhost:8080/"
        },
        "id": "K3sXmlFLHdsY",
        "outputId": "aec4c5f6-3eea-444c-e3b4-e7523b5c752f"
      },
      "outputs": [
        {
          "name": "stdout",
          "output_type": "stream",
          "text": [
            "Cloning into 'ml-paper-implementation'...\n",
            "remote: Enumerating objects: 28, done.\u001b[K\n",
            "remote: Counting objects: 100% (28/28), done.\u001b[K\n",
            "remote: Compressing objects: 100% (17/17), done.\u001b[K\n",
            "remote: Total 28 (delta 7), reused 27 (delta 6), pack-reused 0 (from 0)\u001b[K\n",
            "Receiving objects: 100% (28/28), 71.77 KiB | 5.98 MiB/s, done.\n",
            "Resolving deltas: 100% (7/7), done.\n"
          ]
        }
      ],
      "source": [
        "# get engine.py script from github\n",
        "!git clone https://github.com/aashu-0/ml-paper-implementation\n",
        "! mv ml-paper-implementation/ViT .\n",
        "from ViT import engine"
      ]
    },
    {
      "cell_type": "code",
      "execution_count": null,
      "metadata": {
        "id": "Oi3FSY7WHdh-"
      },
      "outputs": [],
      "source": [
        "loss_fn = torch.nn.CrossEntropyLoss()\n",
        "optimizer = torch.optim.Adam(params = pretrained_vit.parameters(),\n",
        "                            lr=0.0003,\n",
        "                            betas = (0.9,0.99),\n",
        "                            weight_decay = 0.5)"
      ]
    },
    {
      "cell_type": "code",
      "execution_count": null,
      "metadata": {
        "colab": {
          "base_uri": "https://localhost:8080/",
          "height": 223,
          "referenced_widgets": [
            "ce8c6801703345b0b1921d99c34d6a2d",
            "0da0473e132a43728c74acc79db6d57b",
            "9fcd39a7c59a451c88f84eb4e9690c69",
            "ca57f7562abb483db9e2f06175df7d9b",
            "f9e999130d6a4cb3bd93691ebad5d579",
            "541016f67c5d4490af31892c77dee53e",
            "416b6fcab7a64b86b39f4a69414492f0",
            "7e566d2f44a24ef18df480e1f882b024",
            "99bd78404a5249eda41f794608a36843",
            "e4e4b87b545f48e6a4398a7350a0d3f3",
            "aeec2614ec7b4f7a8958315af79ecc3c"
          ]
        },
        "id": "5LsOMby8HdUI",
        "outputId": "9810c558-606d-4eb7-a2f8-088af640d41b"
      },
      "outputs": [
        {
          "data": {
            "application/vnd.jupyter.widget-view+json": {
              "model_id": "ce8c6801703345b0b1921d99c34d6a2d",
              "version_major": 2,
              "version_minor": 0
            },
            "text/plain": [
              "  0%|          | 0/10 [00:00<?, ?it/s]"
            ]
          },
          "metadata": {},
          "output_type": "display_data"
        },
        {
          "name": "stdout",
          "output_type": "stream",
          "text": [
            "epoch: 1 | train loss: 0.8156 | train acc: 0.7775 | test loss: 0.4123 | test acc: 0.9507 | \n",
            "epoch: 2 | train loss: 0.3148 | train acc: 0.9591 | test loss: 0.2543 | test acc: 0.9688 | \n",
            "epoch: 3 | train loss: 0.2286 | train acc: 0.9697 | test loss: 0.2137 | test acc: 0.9736 | \n",
            "epoch: 4 | train loss: 0.2006 | train acc: 0.9747 | test loss: 0.1969 | test acc: 0.9760 | \n",
            "epoch: 5 | train loss: 0.1871 | train acc: 0.9762 | test loss: 0.1886 | test acc: 0.9736 | \n",
            "epoch: 6 | train loss: 0.1803 | train acc: 0.9772 | test loss: 0.1830 | test acc: 0.9784 | \n",
            "epoch: 7 | train loss: 0.1750 | train acc: 0.9759 | test loss: 0.1805 | test acc: 0.9724 | \n",
            "epoch: 8 | train loss: 0.1726 | train acc: 0.9803 | test loss: 0.1779 | test acc: 0.9808 | \n",
            "epoch: 9 | train loss: 0.1708 | train acc: 0.9775 | test loss: 0.1775 | test acc: 0.9772 | \n",
            "epoch: 10 | train loss: 0.1704 | train acc: 0.9775 | test loss: 0.1766 | test acc: 0.9784 | \n"
          ]
        }
      ],
      "source": [
        "# training\n",
        "pretrained_vit_results = engine.train(model = pretrained_vit,\n",
        "                                      train_dataloader = train_loader_pretrained,\n",
        "                                      test_dataloader = test_loader_pretrained,\n",
        "                                      optimizer= optimizer,\n",
        "                                      loss_fn = loss_fn,\n",
        "                                      epochs = 10,\n",
        "                                      device = device)"
      ]
    },
    {
      "cell_type": "code",
      "execution_count": null,
      "metadata": {
        "colab": {
          "base_uri": "https://localhost:8080/"
        },
        "id": "A-O6Pn_6MbBv",
        "outputId": "879370f0-05c6-4e5f-b857-51d6c1cc2275"
      },
      "outputs": [
        {
          "name": "stdout",
          "output_type": "stream",
          "text": [
            "Model saved as pretrained-vit_cifar10.pth\n"
          ]
        }
      ],
      "source": [
        "# save model dict\n",
        "torch.save(pretrained_vit.state_dict(), \"pretrained-vit_cifar10.pth\")\n",
        "print(\"Model saved as pretrained-vit_cifar10.pth\")"
      ]
    },
    {
      "cell_type": "code",
      "execution_count": null,
      "metadata": {
        "colab": {
          "base_uri": "https://localhost:8080/"
        },
        "id": "p7MYoUzHN33O",
        "outputId": "1f33e54c-43f2-47cb-ac1e-05c06af70c9f"
      },
      "outputs": [
        {
          "name": "stdout",
          "output_type": "stream",
          "text": [
            "File Size in Bytes is: 343269670\n",
            "File Size in MegaBytes is: 327.37 MB\n"
          ]
        }
      ],
      "source": [
        "import os\n",
        "\n",
        "file_name = \"pretrained-vit_cifar10.pth\"\n",
        "file_size = os.path.getsize(file_name)\n",
        "\n",
        "print(f\"File Size in Bytes is: {file_size}\")\n",
        "print(f\"File Size in MegaBytes is: {file_size / (1024 * 1024):.2f} MB\")"
      ]
    },
    {
      "cell_type": "code",
      "execution_count": null,
      "metadata": {
        "id": "llDT9DZdN41A"
      },
      "outputs": [],
      "source": [
        "import matplotlib.pyplot as plt\n",
        "\n",
        "def save_plots(results, save_dir='.'):\n",
        "    \"\"\"Save loss and accuracy plots\"\"\"\n",
        "    # Create plots directory if it doesn't exist\n",
        "    if not os.path.exists(save_dir):\n",
        "        os.makedirs(save_dir)\n",
        "\n",
        "    # Plot loss\n",
        "    plt.figure(figsize=(10, 5))\n",
        "    plt.subplot(1, 2, 1)\n",
        "    plt.plot(results['train_loss'], label='Train Loss')\n",
        "    plt.plot(results['test_loss'], label='Test Loss')\n",
        "    plt.xlabel('Epochs')\n",
        "    plt.ylabel('Loss')\n",
        "    plt.legend()\n",
        "    plt.title('Loss Curves')\n",
        "\n",
        "    # Plot accuracy\n",
        "    plt.subplot(1, 2, 2)\n",
        "    plt.plot(results['train_acc'], label='Train Accuracy')\n",
        "    plt.plot(results['test_acc'], label='Test Accuracy')\n",
        "    plt.xlabel('Epochs')\n",
        "    plt.ylabel('Accuracy')\n",
        "    plt.legend()\n",
        "    plt.title('Accuracy Curves')\n",
        "\n",
        "    plt.tight_layout()\n",
        "    plt.savefig(os.path.join(save_dir, 'training_metrics.png'))\n",
        "    print(f\"Plots saved to {os.path.join(save_dir, 'training_metrics.png')}\")"
      ]
    },
    {
      "cell_type": "code",
      "execution_count": null,
      "metadata": {
        "colab": {
          "base_uri": "https://localhost:8080/",
          "height": 524
        },
        "id": "0m3mszehyCkq",
        "outputId": "8b9cd15f-cb65-4c03-9690-10ebf9e03e5e"
      },
      "outputs": [
        {
          "name": "stdout",
          "output_type": "stream",
          "text": [
            "Plots saved to ./training_metrics.png\n"
          ]
        },
        {
          "data": {
            "image/png": "[encoded data removed]",
            "text/plain": [
              "<Figure size 1000x500 with 2 Axes>"
            ]
          },
          "metadata": {},
          "output_type": "display_data"
        }
      ],
      "source": [
        "save_plots(pretrained_vit_results)"
      ]
    },
    {
      "cell_type": "code",
      "execution_count": null,
      "metadata": {
        "id": "taUfzQfc0n1s"
      },
      "outputs": [],
      "source": []
    }
  ],
  "metadata": {
    "accelerator": "GPU",
    "colab": {
      "gpuType": "T4",
      "provenance": []
    },
    "kaggle": {
      "accelerator": "nvidiaTeslaT4",
      "dataSources": [],
      "dockerImageVersionId": 30839,
      "isGpuEnabled": true,
      "isInternetEnabled": true,
      "language": "python",
      "sourceType": "notebook"
    },
    "kernelspec": {
      "display_name": "Python 3",
      "name": "python3"
    },
    "language_info": {
      "codemirror_mode": {
        "name": "ipython",
        "version": 3
      },
      "file_extension": ".py",
      "mimetype": "text/x-python",
      "name": "python",
      "nbconvert_exporter": "python",
      "pygments_lexer": "ipython3",
      "version": "3.10.12"
    },
    "widgets": {
      "application/vnd.jupyter.widget-state+json": {
        "0da0473e132a43728c74acc79db6d57b": {
          "model_module": "@jupyter-widgets/controls",
          "model_module_version": "1.5.0",
          "model_name": "HTMLModel",
          "state": {
            "_dom_classes": [],
            "_model_module": "@jupyter-widgets/controls",
            "_model_module_version": "1.5.0",
            "_model_name": "HTMLModel",
            "_view_count": null,
            "_view_module": "@jupyter-widgets/controls",
            "_view_module_version": "1.5.0",
            "_view_name": "HTMLView",
            "description": "",
            "description_tooltip": null,
            "layout": "IPY_MODEL_541016f67c5d4490af31892c77dee53e",
            "placeholder": "​",
            "style": "IPY_MODEL_416b6fcab7a64b86b39f4a69414492f0",
            "value": "100%"
          }
        },
        "416b6fcab7a64b86b39f4a69414492f0": {
          "model_module": "@jupyter-widgets/controls",
          "model_module_version": "1.5.0",
          "model_name": "DescriptionStyleModel",
          "state": {
            "_model_module": "@jupyter-widgets/controls",
            "_model_module_version": "1.5.0",
            "_model_name": "DescriptionStyleModel",
            "_view_count": null,
            "_view_module": "@jupyter-widgets/base",
            "_view_module_version": "1.2.0",
            "_view_name": "StyleView",
            "description_width": ""
          }
        },
        "541016f67c5d4490af31892c77dee53e": {
          "model_module": "@jupyter-widgets/base",
          "model_module_version": "1.2.0",
          "model_name": "LayoutModel",
          "state": {
            "_model_module": "@jupyter-widgets/base",
            "_model_module_version": "1.2.0",
            "_model_name": "LayoutModel",
            "_view_count": null,
            "_view_module": "@jupyter-widgets/base",
            "_view_module_version": "1.2.0",
            "_view_name": "LayoutView",
            "align_content": null,
            "align_items": null,
            "align_self": null,
            "border": null,
            "bottom": null,
            "display": null,
            "flex": null,
            "flex_flow": null,
            "grid_area": null,
            "grid_auto_columns": null,
            "grid_auto_flow": null,
            "grid_auto_rows": null,
            "grid_column": null,
            "grid_gap": null,
            "grid_row": null,
            "grid_template_areas": null,
            "grid_template_columns": null,
            "grid_template_rows": null,
            "height": null,
            "justify_content": null,
            "justify_items": null,
            "left": null,
            "margin": null,
            "max_height": null,
            "max_width": null,
            "min_height": null,
            "min_width": null,
            "object_fit": null,
            "object_position": null,
            "order": null,
            "overflow": null,
            "overflow_x": null,
            "overflow_y": null,
            "padding": null,
            "right": null,
            "top": null,
            "visibility": null,
            "width": null
          }
        },
        "7e566d2f44a24ef18df480e1f882b024": {
          "model_module": "@jupyter-widgets/base",
          "model_module_version": "1.2.0",
          "model_name": "LayoutModel",
          "state": {
            "_model_module": "@jupyter-widgets/base",
            "_model_module_version": "1.2.0",
            "_model_name": "LayoutModel",
            "_view_count": null,
            "_view_module": "@jupyter-widgets/base",
            "_view_module_version": "1.2.0",
            "_view_name": "LayoutView",
            "align_content": null,
            "align_items": null,
            "align_self": null,
            "border": null,
            "bottom": null,
            "display": null,
            "flex": null,
            "flex_flow": null,
            "grid_area": null,
            "grid_auto_columns": null,
            "grid_auto_flow": null,
            "grid_auto_rows": null,
            "grid_column": null,
            "grid_gap": null,
            "grid_row": null,
            "grid_template_areas": null,
            "grid_template_columns": null,
            "grid_template_rows": null,
            "height": null,
            "justify_content": null,
            "justify_items": null,
            "left": null,
            "margin": null,
            "max_height": null,
            "max_width": null,
            "min_height": null,
            "min_width": null,
            "object_fit": null,
            "object_position": null,
            "order": null,
            "overflow": null,
            "overflow_x": null,
            "overflow_y": null,
            "padding": null,
            "right": null,
            "top": null,
            "visibility": null,
            "width": null
          }
        },
        "99bd78404a5249eda41f794608a36843": {
          "model_module": "@jupyter-widgets/controls",
          "model_module_version": "1.5.0",
          "model_name": "ProgressStyleModel",
          "state": {
            "_model_module": "@jupyter-widgets/controls",
            "_model_module_version": "1.5.0",
            "_model_name": "ProgressStyleModel",
            "_view_count": null,
            "_view_module": "@jupyter-widgets/base",
            "_view_module_version": "1.2.0",
            "_view_name": "StyleView",
            "bar_color": null,
            "description_width": ""
          }
        },
        "9fcd39a7c59a451c88f84eb4e9690c69": {
          "model_module": "@jupyter-widgets/controls",
          "model_module_version": "1.5.0",
          "model_name": "FloatProgressModel",
          "state": {
            "_dom_classes": [],
            "_model_module": "@jupyter-widgets/controls",
            "_model_module_version": "1.5.0",
            "_model_name": "FloatProgressModel",
            "_view_count": null,
            "_view_module": "@jupyter-widgets/controls",
            "_view_module_version": "1.5.0",
            "_view_name": "ProgressView",
            "bar_style": "success",
            "description": "",
            "description_tooltip": null,
            "layout": "IPY_MODEL_7e566d2f44a24ef18df480e1f882b024",
            "max": 10,
            "min": 0,
            "orientation": "horizontal",
            "style": "IPY_MODEL_99bd78404a5249eda41f794608a36843",
            "value": 10
          }
        },
        "aeec2614ec7b4f7a8958315af79ecc3c": {
          "model_module": "@jupyter-widgets/controls",
          "model_module_version": "1.5.0",
          "model_name": "DescriptionStyleModel",
          "state": {
            "_model_module": "@jupyter-widgets/controls",
            "_model_module_version": "1.5.0",
            "_model_name": "DescriptionStyleModel",
            "_view_count": null,
            "_view_module": "@jupyter-widgets/base",
            "_view_module_version": "1.2.0",
            "_view_name": "StyleView",
            "description_width": ""
          }
        },
        "ca57f7562abb483db9e2f06175df7d9b": {
          "model_module": "@jupyter-widgets/controls",
          "model_module_version": "1.5.0",
          "model_name": "HTMLModel",
          "state": {
            "_dom_classes": [],
            "_model_module": "@jupyter-widgets/controls",
            "_model_module_version": "1.5.0",
            "_model_name": "HTMLModel",
            "_view_count": null,
            "_view_module": "@jupyter-widgets/controls",
            "_view_module_version": "1.5.0",
            "_view_name": "HTMLView",
            "description": "",
            "description_tooltip": null,
            "layout": "IPY_MODEL_e4e4b87b545f48e6a4398a7350a0d3f3",
            "placeholder": "​",
            "style": "IPY_MODEL_aeec2614ec7b4f7a8958315af79ecc3c",
            "value": " 10/10 [08:10&lt;00:00, 49.60s/it]"
          }
        },
        "ce8c6801703345b0b1921d99c34d6a2d": {
          "model_module": "@jupyter-widgets/controls",
          "model_module_version": "1.5.0",
          "model_name": "HBoxModel",
          "state": {
            "_dom_classes": [],
            "_model_module": "@jupyter-widgets/controls",
            "_model_module_version": "1.5.0",
            "_model_name": "HBoxModel",
            "_view_count": null,
            "_view_module": "@jupyter-widgets/controls",
            "_view_module_version": "1.5.0",
            "_view_name": "HBoxView",
            "box_style": "",
            "children": [
              "IPY_MODEL_0da0473e132a43728c74acc79db6d57b",
              "IPY_MODEL_9fcd39a7c59a451c88f84eb4e9690c69",
              "IPY_MODEL_ca57f7562abb483db9e2f06175df7d9b"
            ],
            "layout": "IPY_MODEL_f9e999130d6a4cb3bd93691ebad5d579"
          }
        },
        "e4e4b87b545f48e6a4398a7350a0d3f3": {
          "model_module": "@jupyter-widgets/base",
          "model_module_version": "1.2.0",
          "model_name": "LayoutModel",
          "state": {
            "_model_module": "@jupyter-widgets/base",
            "_model_module_version": "1.2.0",
            "_model_name": "LayoutModel",
            "_view_count": null,
            "_view_module": "@jupyter-widgets/base",
            "_view_module_version": "1.2.0",
            "_view_name": "LayoutView",
            "align_content": null,
            "align_items": null,
            "align_self": null,
            "border": null,
            "bottom": null,
            "display": null,
            "flex": null,
            "flex_flow": null,
            "grid_area": null,
            "grid_auto_columns": null,
            "grid_auto_flow": null,
            "grid_auto_rows": null,
            "grid_column": null,
            "grid_gap": null,
            "grid_row": null,
            "grid_template_areas": null,
            "grid_template_columns": null,
            "grid_template_rows": null,
            "height": null,
            "justify_content": null,
            "justify_items": null,
            "left": null,
            "margin": null,
            "max_height": null,
            "max_width": null,
            "min_height": null,
            "min_width": null,
            "object_fit": null,
            "object_position": null,
            "order": null,
            "overflow": null,
            "overflow_x": null,
            "overflow_y": null,
            "padding": null,
            "right": null,
            "top": null,
            "visibility": null,
            "width": null
          }
        },
        "f9e999130d6a4cb3bd93691ebad5d579": {
          "model_module": "@jupyter-widgets/base",
          "model_module_version": "1.2.0",
          "model_name": "LayoutModel",
          "state": {
            "_model_module": "@jupyter-widgets/base",
            "_model_module_version": "1.2.0",
            "_model_name": "LayoutModel",
            "_view_count": null,
            "_view_module": "@jupyter-widgets/base",
            "_view_module_version": "1.2.0",
            "_view_name": "LayoutView",
            "align_content": null,
            "align_items": null,
            "align_self": null,
            "border": null,
            "bottom": null,
            "display": null,
            "flex": null,
            "flex_flow": null,
            "grid_area": null,
            "grid_auto_columns": null,
            "grid_auto_flow": null,
            "grid_auto_rows": null,
            "grid_column": null,
            "grid_gap": null,
            "grid_row": null,
            "grid_template_areas": null,
            "grid_template_columns": null,
            "grid_template_rows": null,
            "height": null,
            "justify_content": null,
            "justify_items": null,
            "left": null,
            "margin": null,
            "max_height": null,
            "max_width": null,
            "min_height": null,
            "min_width": null,
            "object_fit": null,
            "object_position": null,
            "order": null,
            "overflow": null,
            "overflow_x": null,
            "overflow_y": null,
            "padding": null,
            "right": null,
            "top": null,
            "visibility": null,
            "width": null
          }
        }
      }
    }
  },
  "nbformat": 4,
  "nbformat_minor": 0
}
